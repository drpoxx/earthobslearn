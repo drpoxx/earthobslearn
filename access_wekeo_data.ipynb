{
 "cells": [
  {
   "cell_type": "markdown",
   "metadata": {},
   "source": [
    "# Fetch data from wekeo\n",
    "---\n",
    "\n",
    "First we need to complete the following request too get the authentication token. \n",
    "\n",
    "__$ curl --request GET --header 'authorization: Basic <credentials>' https://wekeo-broker.apps.mercator.dpi.wekeo.eu/databroker/gettoken__\n",
    "\n",
    "\n",
    "Next we have to accept the terms and conditions using the authentication token.\n",
    "\n",
    "__$ curl --request PUT --header 'accept: application/json' --header 'authorization: <access_token>' --data 'accepted=true' https://'wekeo-broker.apps.mercator.dpi.wekeo.eu/databroker/termsaccepted/Copernicus_General_License__\n",
    "\n",
    "Ultimately we can get the subsetted dataset via the following command.\n",
    "\n",
    "__$ curl --request GET --header 'authorization: <access_token>' https://wekeo-broker.apps.mercator.dpi.wekeo.eu/databroker/querymetadata/<datasetId>__"
   ]
  },
  {
   "cell_type": "code",
   "execution_count": 59,
   "metadata": {},
   "outputs": [],
   "source": [
    "import requests\n",
    "from config import credentials"
   ]
  },
  {
   "cell_type": "code",
   "execution_count": 60,
   "metadata": {},
   "outputs": [
    {
     "name": "stdout",
     "output_type": "stream",
     "text": [
      "The request token is:  19e23327-7b1d-3b3d-a7a9-0a7928012ac1\n"
     ]
    }
   ],
   "source": [
    "url_token = \"https://wekeo-broker.apps.mercator.dpi.wekeo.eu/databroker/gettoken\"\n",
    "res_token = requests.get(url_token, auth=credentials)\n",
    "print(\"The request token is: \", res_token.json()[\"access_token\"])"
   ]
  },
  {
   "cell_type": "code",
   "execution_count": 34,
   "metadata": {},
   "outputs": [],
   "source": [
    "url_tc = \"https://wekeo-broker.apps.mercator.dpi.wekeo.eu/databroker/termsaccepted/Copernicus_General_License\"\n",
    "res_tc = requests.get(url_tc, headers={\"accept\":\"application/json\", \"authorization\":res_token.json()[\"access_token\"]})"
   ]
  },
  {
   "cell_type": "markdown",
   "metadata": {},
   "source": [
    "In this example we created an API call at wekeo.eu. We selected the area around Reading. \n",
    "\n",
    "The API request looks like this:\n",
    "\n",
    "{\n",
    "  \"datasetId\": \"EO:ESA:DAT:SENTINEL-2:MSI\",\n",
    "  \"boundingBoxValues\": [\n",
    "    {\n",
    "      \"name\": \"bbox\",\n",
    "      \"bbox\": [\n",
    "        -1.0049839613742617,\n",
    "        51.41492053337421,\n",
    "        -0.9518149873018946,\n",
    "        51.43582605943038\n",
    "      ]\n",
    "    }\n",
    "  ],\n",
    "  \"dateRangeSelectValues\": [\n",
    "    {\n",
    "      \"name\": \"position\",\n",
    "      \"start\": \"2015-10-01T00:00:00.000Z\",\n",
    "      \"end\": \"2021-11-10T00:00:00.000Z\"\n",
    "    }\n",
    "  ],\n",
    "  \"stringChoiceValues\": [\n",
    "    {\n",
    "      \"name\": \"processingLevel\",\n",
    "      \"value\": \"LEVEL1C\"\n",
    "    }\n",
    "  ]\n",
    "}"
   ]
  },
  {
   "cell_type": "code",
   "execution_count": 35,
   "metadata": {},
   "outputs": [],
   "source": [
    "dataset_id = \"EO:ESA:DAT:SENTINEL-2:MSI\"\n",
    "url_dataquery = \"https://wekeo-broker.apps.mercator.dpi.wekeo.eu/databroker/querymetadata/\"\n",
    "res_dataquery = requests.get(url_dataquery+dataset_id, headers={\"authorization\":res_token.json()[\"access_token\"]})\n",
    "dataquery = res_tc.json()"
   ]
  },
  {
   "cell_type": "code",
   "execution_count": 55,
   "metadata": {},
   "outputs": [],
   "source": [
    "data = {\n",
    "  \"datasetId\": \"EO:ESA:DAT:SENTINEL-2:MSI\",\n",
    "  \"boundingBoxValues\": [\n",
    "    {\n",
    "      \"name\": \"bbox\",\n",
    "      \"bbox\": [\n",
    "        -1.0049839613742617,\n",
    "        51.41492053337421,\n",
    "        -0.9518149873018946,\n",
    "        51.43582605943038\n",
    "      ]\n",
    "    }\n",
    "  ],\n",
    "  \"dateRangeSelectValues\": [\n",
    "    {\n",
    "      \"name\": \"position\",\n",
    "      \"start\": \"2015-10-01T00:00:00.000Z\",\n",
    "      \"end\": \"2021-11-10T00:00:00.000Z\"\n",
    "    }\n",
    "  ],\n",
    "  \"stringChoiceValues\": [\n",
    "    {\n",
    "      \"name\": \"processingLevel\",\n",
    "      \"value\": \"LEVEL1C\"\n",
    "    }\n",
    "  ]\n",
    "}"
   ]
  },
  {
   "cell_type": "code",
   "execution_count": 56,
   "metadata": {},
   "outputs": [],
   "source": [
    "res_post = requests.post(url_dataquery, headers={\"authorization\":res_token.json()[\"access_token\"], \"content-type\":\"application/json\"}, data=data)"
   ]
  },
  {
   "cell_type": "code",
   "execution_count": 57,
   "metadata": {},
   "outputs": [
    {
     "data": {
      "text/plain": [
       "{'detail': 'The requested URL was not found on the server.  If you entered the URL manually please check your spelling and try again.',\n",
       " 'status': 404,\n",
       " 'title': 'Not Found',\n",
       " 'type': 'about:blank'}"
      ]
     },
     "execution_count": 57,
     "metadata": {},
     "output_type": "execute_result"
    }
   ],
   "source": [
    "res_post.json()"
   ]
  },
  {
   "cell_type": "code",
   "execution_count": 53,
   "metadata": {},
   "outputs": [
    {
     "data": {
      "text/plain": [
       "dict"
      ]
     },
     "execution_count": 53,
     "metadata": {},
     "output_type": "execute_result"
    }
   ],
   "source": [
    "type(data)"
   ]
  },
  {
   "cell_type": "code",
   "execution_count": null,
   "metadata": {},
   "outputs": [],
   "source": []
  }
 ],
 "metadata": {
  "interpreter": {
   "hash": "c2c0e7ee56433be14f0d287b3b2db6ec8e70adcb949995f614bd560673f689bf"
  },
  "kernelspec": {
   "display_name": "Python 3.9.7 64-bit",
   "name": "python3"
  },
  "language_info": {
   "codemirror_mode": {
    "name": "ipython",
    "version": 3
   },
   "file_extension": ".py",
   "mimetype": "text/x-python",
   "name": "python",
   "nbconvert_exporter": "python",
   "pygments_lexer": "ipython3",
   "version": "3.9.7"
  },
  "orig_nbformat": 4
 },
 "nbformat": 4,
 "nbformat_minor": 2
}
