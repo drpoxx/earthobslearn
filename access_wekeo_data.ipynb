{
 "cells": [
  {
   "cell_type": "markdown",
   "metadata": {},
   "source": [
    "# Fetch data from wekeo\n",
    "---\n",
    "\n",
    "First we need to complete the following request too get the authentication token.\n",
    "\n",
    "> __$ curl --request GET --header 'authorization: Basic <credentials>' https://wekeo-broker.apps.mercator.dpi.wekeo.eu/databroker/gettoken__\n",
    "\n",
    "\n",
    "Next we have to accept the terms and conditions using the authentication token.\n",
    "\n",
    "> __$ curl --request PUT --header 'accept: application/json' --header 'authorization: <access_token>' --data 'accepted=true' https://'wekeo-broker.apps.mercator.dpi.wekeo.eu/databroker/termsaccepted/Copernicus_General_License__\n",
    "\n",
    "Ultimately we can get the subsetted dataset via the following command.\n",
    "\n",
    "> __$ curl --request GET --header 'authorization: <access_token>' https://wekeo-broker.apps.mercator.dpi.wekeo.eu/databroker/querymetadata/<datasetId>__"
   ]
  },
  {
   "cell_type": "code",
   "execution_count": 23,
   "metadata": {},
   "outputs": [],
   "source": [
    "import requests\n",
    "import base64\n",
    "import json\n",
    "import time\n",
    "from config import credentials"
   ]
  },
  {
   "cell_type": "code",
   "execution_count": 4,
   "metadata": {},
   "outputs": [
    {
     "name": "stdout",
     "output_type": "stream",
     "text": [
      "The request token is:  6c5fee3a-0cfd-3627-b56f-577ce7dadfd2\n"
     ]
    }
   ],
   "source": [
    "url_token = \"https://wekeo-broker.apps.mercator.dpi.wekeo.eu/databroker/gettoken\"\n",
    "res_token = requests.get(url_token, auth=credentials)\n",
    "\n",
    "access_token = res_token.json()[\"access_token\"]\n",
    "\n",
    "\n",
    "print(\"The request token is: \", access_token)"
   ]
  },
  {
   "cell_type": "code",
   "execution_count": 5,
   "metadata": {},
   "outputs": [
    {
     "name": "stdout",
     "output_type": "stream",
     "text": [
      "The request token is:  6c5fee3a-0cfd-3627-b56f-577ce7dadfd2\n"
     ]
    }
   ],
   "source": [
    "# This is the alternative method to get the token.\n",
    "api_string = credentials[0] +':'+credentials[1] \n",
    "api_key = (base64.b64encode(str.encode(api_string), altchars=None)).decode()\n",
    "\n",
    "headers = {'Authorization': 'Basic ' + api_key}\n",
    "response = requests.get(url_token, headers=headers)\n",
    "access_token = json.loads(response.text)['access_token']\n",
    "\n",
    "print(\"The request token is: \", access_token)"
   ]
  },
  {
   "cell_type": "markdown",
   "metadata": {},
   "source": [
    "After succesfully getting the access token we have to accept the terms and conditions of the wekeo page. First we check if we already have accepted them. If they have been accepted we move on with the next step. If not we accept them with a put request. "
   ]
  },
  {
   "cell_type": "code",
   "execution_count": 17,
   "metadata": {},
   "outputs": [
    {
     "name": "stdout",
     "output_type": "stream",
     "text": [
      "The terms and conditions were already accepted.\n"
     ]
    }
   ],
   "source": [
    "headers = {'Authorization': 'Bearer ' + access_token, 'Accept': 'application/json'}\n",
    "\n",
    "url_tc = \"https://wekeo-broker.apps.mercator.dpi.wekeo.eu/databroker/termsaccepted/Copernicus_General_License\"\n",
    "res_tc = requests.get(url_tc, headers=headers)\n",
    "\n",
    "if res_tc.status_code != requests.codes.ok:\n",
    "    print(\"Problem! The request returned an error.\")\n",
    "else:\n",
    "    if json.loads(res_tc.text)[\"accepted\"] is False:\n",
    "        print(\"The Terms and Conditions have not been accepted yet.\")\n",
    "\n",
    "        accept_tc = requests.put(url_tc, headers=headers)\n",
    "\n",
    "        print(f\"The Terms and Conditions have been accepted ({json.loads(accept_tc.text)['accepted']}).\")\n",
    "\n",
    "    else:\n",
    "        print(\"The terms and conditions were already accepted.\")"
   ]
  },
  {
   "cell_type": "markdown",
   "metadata": {},
   "source": [
    "Below we will be using a sample query that is in the documentation of the [Wekeo](https://www.wekeo.eu/docs/harmonised-data-access-api) page. The following query will post a request and continiously check on the query status. When the query is completed the data can be downloaded following the next code chunk."
   ]
  },
  {
   "cell_type": "code",
   "execution_count": 18,
   "metadata": {},
   "outputs": [],
   "source": [
    "data = {\n",
    "  \"datasetId\": \"EO:ESA:DAT:SENTINEL-1:SAR\",\n",
    "  \"boundingBoxValues\": [\n",
    "    {\n",
    "      \"name\": \"bbox\", \"bbox\": [1.13, 43.9, 1.53, 43.68]\n",
    "      }\n",
    "    ],\n",
    "  \"dateRangeSelectValues\": [\n",
    "    {\n",
    "      \"name\": \"dtrange\",\n",
    "      \"start\": \"2020-01-01T00:00:00.000Z\",\n",
    "      \"end\": \"2020-01-12T00:00:00.000Z\"\n",
    "      }\n",
    "    ],\n",
    "  \"stringChoiceValues\": [\n",
    "    { \n",
    "      \"name\": \"producttype\", \"value\": \"GRD\" \n",
    "      }\n",
    "    ]\n",
    "  }\n"
   ]
  },
  {
   "cell_type": "code",
   "execution_count": 26,
   "metadata": {},
   "outputs": [
    {
     "name": "stdout",
     "output_type": "stream",
     "text": [
      "Query successfully submitted. The query ID is vroJgJf1avbBJSszD4z3Zis4x8U\n",
      "The next status check is in 5\n"
     ]
    }
   ],
   "source": [
    "t_step = 5 # timer steps in seconds.\n",
    "t_max = 60 # max timer length in seconds.\n",
    "\n",
    "url_dataquery = \"https://wekeo-broker.apps.mercator.dpi.wekeo.eu/databroker/datarequest\"\n",
    "res_post = requests.post(url_dataquery, headers={'content-type': 'application/json', 'authorization': res_token.json()[\"access_token\"]}, json=data)\n",
    "\n",
    "if res_post.status_code is requests.codes.ok:\n",
    "        query_id = json.loads(res_post.text)['jobId']\n",
    "        print (\"Query successfully submitted. The query ID is \" + query_id)\n",
    "\n",
    "else:\n",
    "        job_id = \"\"\n",
    "        print(f\"Error: Unexpected response {response}\")\n",
    "\n",
    "\n",
    "status = \"not started\"\n",
    "message_id = 0\n",
    "while (status != \"completed\"):\n",
    "        message_id = message_id+1\n",
    "\n",
    "        # Set the response timer.\n",
    "        wait_timer = min(t_step, t_max)\n",
    "        print(f\"The next status check is in {wait_timer}\") \n",
    "        time.sleep(wait_timer)\n",
    "\n",
    "        check_response = requests.get(url_dataquery + \"/status/\" + query_id, headers=headers)\n",
    "\n",
    "\n",
    "        if check_response.status_code == requests.codes.ok:\n",
    "            status = json.loads(check_response.text)[\"status\"]\n",
    "\n",
    "            print (\"The query was succesfully submitted. The status is \" + status)\n",
    "        else:\n",
    "            print(f\"Error: Unexpected response {check_response}\")"
   ]
  },
  {
   "cell_type": "markdown",
   "metadata": {},
   "source": [
    "In the following bit the pervious query is download as zip file.  "
   ]
  },
  {
   "cell_type": "code",
   "execution_count": null,
   "metadata": {},
   "outputs": [],
   "source": [
    "r = requests.get(url, headers=headers, stream=True)"
   ]
  }
 ],
 "metadata": {
  "interpreter": {
   "hash": "c2c0e7ee56433be14f0d287b3b2db6ec8e70adcb949995f614bd560673f689bf"
  },
  "kernelspec": {
   "display_name": "Python 3.9.7 64-bit",
   "name": "python3"
  },
  "language_info": {
   "codemirror_mode": {
    "name": "ipython",
    "version": 3
   },
   "file_extension": ".py",
   "mimetype": "text/x-python",
   "name": "python",
   "nbconvert_exporter": "python",
   "pygments_lexer": "ipython3",
   "version": "3.9.7"
  },
  "orig_nbformat": 4
 },
 "nbformat": 4,
 "nbformat_minor": 2
}
