{
 "cells": [
  {
   "cell_type": "markdown",
   "metadata": {},
   "source": [
    "# Ship Detection\n",
    "\n",
    "In this notebook we will deploy a convolution neural network (CNN) to detect ships from satellite inmages. The image data was previously consolidated in [.npz](https://numpy.org/doc/stable/reference/generated/numpy.savez.html) files and shared from Wekeo. The data originated from the [OpenSARShip paper](https://ieeexplore.ieee.org/document/8067489). We will detect three types of ships bulk carrier, container ship and tanker. "
   ]
  },
  {
   "cell_type": "code",
   "execution_count": 16,
   "metadata": {},
   "outputs": [],
   "source": [
    "import pathlib\n",
    "\n",
    "import numpy as np\n",
    "import matplotlib.pyplot as plt\n",
    "from sklearn.model_selection import train_test_split\n",
    "import tensorflow as tf\n",
    "from tensorflow.keras.applications import VGG16\n",
    "from tensorflow.keras.utils import plot_model\n",
    "from tensorflow.keras.models import load_model"
   ]
  },
  {
   "cell_type": "code",
   "execution_count": 9,
   "metadata": {},
   "outputs": [],
   "source": [
    "data_path = pathlib.Path(pathlib.Path.cwd(), \"raw_data\", \"ship_detect\")\n",
    "ship_data = np.load(pathlib.Path(data_path, \"MOOC_dataset.npz\"))\n"
   ]
  },
  {
   "cell_type": "code",
   "execution_count": 13,
   "metadata": {},
   "outputs": [
    {
     "name": "stdout",
     "output_type": "stream",
     "text": [
      "Shape - \"Image\" item: (2805, 128, 128)\n",
      "Shape - \"Label\" item: (2805,)\n"
     ]
    }
   ],
   "source": [
    "print('Shape - \"Image\" item: ' + str(ship_data['image'].shape))\n",
    "print('Shape - \"Label\" item: ' + str(ship_data['label'].shape))"
   ]
  },
  {
   "cell_type": "code",
   "execution_count": 15,
   "metadata": {},
   "outputs": [
    {
     "name": "stdout",
     "output_type": "stream",
     "text": [
      "Ship class: 2\n"
     ]
    },
    {
     "data": {
      "image/png": "[encoded data removed]",
      "text/plain": [
       "<Figure size 432x288 with 1 Axes>"
      ]
     },
     "metadata": {
      "needs_background": "light"
     },
     "output_type": "display_data"
    }
   ],
   "source": [
    "index = 2800\n",
    "plt.imshow(ship_data['image'][index,:,:])\n",
    "print('Ship class: ' + str(ship_data['label'][index]))"
   ]
  }
 ],
 "metadata": {
  "interpreter": {
   "hash": "c2c0e7ee56433be14f0d287b3b2db6ec8e70adcb949995f614bd560673f689bf"
  },
  "kernelspec": {
   "display_name": "Python 3.9.7 64-bit",
   "language": "python",
   "name": "python3"
  },
  "language_info": {
   "codemirror_mode": {
    "name": "ipython",
    "version": 3
   },
   "file_extension": ".py",
   "mimetype": "text/x-python",
   "name": "python",
   "nbconvert_exporter": "python",
   "pygments_lexer": "ipython3",
   "version": "3.9.7"
  },
  "orig_nbformat": 4
 },
 "nbformat": 4,
 "nbformat_minor": 2
}
